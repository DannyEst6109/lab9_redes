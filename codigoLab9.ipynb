{
 "cells": [
  {
   "cell_type": "markdown",
   "metadata": {},
   "source": [
    "# Código para el Productor"
   ]
  },
  {
   "cell_type": "code",
   "execution_count": null,
   "metadata": {},
   "outputs": [],
   "source": [
    "from kafka import KafkaProducer\n",
    "import json\n",
    "import random\n",
    "import time\n",
    "\n",
    "# Configuración del servidor Kafka\n",
    "KAFKA_SERVER = 'lab9.alumchat.lol:9092'\n",
    "TOPIC = '12345'  # Cambia esto por tu número de carné\n",
    "\n",
    "# Inicialización del productor Kafka\n",
    "producer = KafkaProducer(\n",
    "    bootstrap_servers=KAFKA_SERVER,\n",
    "    value_serializer=lambda v: json.dumps(v).encode('utf-8')\n",
    ")\n",
    "\n",
    "# Función para generar datos simulados de sensores\n",
    "def generar_datos():\n",
    "    temperatura = round(random.uniform(0, 110), 2)\n",
    "    humedad = random.randint(0, 100)\n",
    "    direccion_viento = random.choice([\"N\", \"NO\", \"O\", \"SO\", \"S\", \"SE\", \"E\", \"NE\"])\n",
    "    return {\n",
    "        \"temperatura\": temperatura,\n",
    "        \"humedad\": humedad,\n",
    "        \"direccion_viento\": direccion_viento\n",
    "    }\n",
    "\n",
    "# Enviar datos cada 15-30 segundos\n",
    "try:\n",
    "    while True:\n",
    "        data = generar_datos()\n",
    "        producer.send(TOPIC, value=data)\n",
    "        print(f\"Datos enviados: {data}\")\n",
    "        time.sleep(random.randint(15, 30))\n",
    "except KeyboardInterrupt:\n",
    "    print(\"Producción interrumpida\")\n",
    "finally:\n",
    "    producer.close()\n"
   ]
  },
  {
   "cell_type": "markdown",
   "metadata": {},
   "source": [
    "# Código para el Consumidor"
   ]
  },
  {
   "cell_type": "code",
   "execution_count": null,
   "metadata": {},
   "outputs": [],
   "source": [
    "from kafka import KafkaConsumer\n",
    "import json\n",
    "import matplotlib.pyplot as plt\n",
    "\n",
    "# Configuración del servidor Kafka\n",
    "consumer = KafkaConsumer(\n",
    "    '12345',  # Cambia esto por tu número de carné\n",
    "    bootstrap_servers='lab9.alumchat.lol:9092',\n",
    "    value_deserializer=lambda m: json.loads(m.decode('utf-8'))\n",
    ")\n",
    "\n",
    "# Inicialización de listas para graficar\n",
    "temperaturas = []\n",
    "humedades = []\n",
    "direcciones_viento = []\n",
    "\n",
    "# Configuración de la gráfica\n",
    "plt.ion()\n",
    "fig, ax = plt.subplots(3, 1, figsize=(10, 8))\n",
    "\n",
    "def actualizar_graficas():\n",
    "    ax[0].cla()\n",
    "    ax[1].cla()\n",
    "    ax[2].cla()\n",
    "    ax[0].plot(temperaturas, label=\"Temperatura (°C)\")\n",
    "    ax[1].plot(humedades, label=\"Humedad (%)\")\n",
    "    ax[2].plot(direcciones_viento, label=\"Dirección del Viento\")\n",
    "    ax[0].legend()\n",
    "    ax[1].legend()\n",
    "    ax[2].legend()\n",
    "    plt.pause(0.1)\n",
    "\n",
    "try:\n",
    "    for mensaje in consumer:\n",
    "        datos = mensaje.value\n",
    "        temperaturas.append(datos[\"temperatura\"])\n",
    "        humedades.append(datos[\"humedad\"])\n",
    "        direcciones_viento.append(datos[\"direccion_viento\"])\n",
    "        actualizar_graficas()\n",
    "except KeyboardInterrupt:\n",
    "    print(\"Consumo interrumpido\")\n",
    "finally:\n",
    "    plt.ioff()\n",
    "    plt.show()\n"
   ]
  }
 ],
 "metadata": {
  "language_info": {
   "name": "python"
  }
 },
 "nbformat": 4,
 "nbformat_minor": 2
}
