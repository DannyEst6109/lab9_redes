{
 "cells": [
  {
   "cell_type": "markdown",
   "metadata": {},
   "source": [
    "# Código para el Productor"
   ]
  },
  {
   "cell_type": "code",
   "execution_count": null,
   "metadata": {},
   "outputs": [],
   "source": [
    "from kafka import KafkaProducer\n",
    "import json\n",
    "import random\n",
    "import time\n",
    "\n",
    "# Configuración del servidor Kafka\n",
    "KAFKA_SERVER = '164.92.76.15:9092'\n",
    "TOPIC = '21826'\n",
    "\n",
    "# Inicialización del productor Kafka\n",
    "producer = KafkaProducer(\n",
    "    bootstrap_servers=KAFKA_SERVER,\n",
    "    value_serializer=lambda v: json.dumps(v).encode('utf-8')\n",
    ")\n",
    "\n",
    "# Función para generar datos simulados de sensores\n",
    "def generar_datos():\n",
    "    temperatura = round(random.uniform(0, 110), 2)\n",
    "    humedad = random.randint(0, 100)\n",
    "    direccion_viento = random.choice([\"N\", \"NO\", \"O\", \"SO\", \"S\", \"SE\", \"E\", \"NE\"])\n",
    "    return {\n",
    "        \"temperatura\": temperatura,\n",
    "        \"humedad\": humedad,\n",
    "        \"direccion_viento\": direccion_viento\n",
    "    }\n",
    "\n",
    "# Enviar datos cada 15-30 segundos\n",
    "try:\n",
    "    while True:\n",
    "        data = generar_datos()\n",
    "        producer.send(TOPIC, value=data)\n",
    "        print(f\"Datos enviados: {data}\")\n",
    "        time.sleep(random.randint(15, 30))\n",
    "except KeyboardInterrupt:\n",
    "    print(\"Producción interrumpida\")\n",
    "finally:\n",
    "    producer.close()\n"
   ]
  },
  {
   "cell_type": "markdown",
   "metadata": {},
   "source": [
    "# Código para el Consumidor"
   ]
  },
  {
   "cell_type": "code",
   "execution_count": null,
   "metadata": {},
   "outputs": [],
   "source": [
    "from kafka import KafkaConsumer\n",
    "import json\n",
    "import matplotlib.pyplot as plt\n",
    "\n",
    "# Configuración del servidor Kafka\n",
    "consumer = KafkaConsumer(\n",
    "    '21826',\n",
    "    bootstrap_servers='164.92.76.15:9092',\n",
    "    value_deserializer=lambda m: json.loads(m.decode('utf-8'))\n",
    ")\n",
    "\n",
    "# Inicialización de listas para graficar\n",
    "temperaturas = []\n",
    "humedades = []\n",
    "direcciones_viento = []\n",
    "\n",
    "# Configuración de la gráfica\n",
    "plt.ion()\n",
    "fig, ax = plt.subplots(3, 1, figsize=(10, 8))\n",
    "\n",
    "def actualizar_graficas():\n",
    "    ax[0].cla()\n",
    "    ax[1].cla()\n",
    "    ax[2].cla()\n",
    "    ax[0].plot(temperaturas, label=\"Temperatura (°C)\")\n",
    "    ax[1].plot(humedades, label=\"Humedad (%)\")\n",
    "    ax[2].plot(direcciones_viento, label=\"Dirección del Viento\")\n",
    "    ax[0].legend()\n",
    "    ax[1].legend()\n",
    "    ax[2].legend()\n",
    "    plt.pause(0.1)\n",
    "\n",
    "try:\n",
    "    for mensaje in consumer:\n",
    "        datos = mensaje.value\n",
    "        temperaturas.append(datos[\"temperatura\"])\n",
    "        humedades.append(datos[\"humedad\"])\n",
    "        direcciones_viento.append(datos[\"direccion_viento\"])\n",
    "        actualizar_graficas()\n",
    "except KeyboardInterrupt:\n",
    "    print(\"Consumo interrumpido\")\n",
    "finally:\n",
    "    plt.ioff()\n",
    "    plt.show()\n"
   ]
  },
  {
   "cell_type": "markdown",
   "metadata": {},
   "source": [
    "# Compresión de Datos a 3 Bytes (24 bits)"
   ]
  },
  {
   "cell_type": "code",
   "execution_count": null,
   "metadata": {},
   "outputs": [],
   "source": [
    "# Función para codificar datos en un mensaje de 3 bytes\n",
    "def encode_datos(temperatura, humedad, direccion_viento):\n",
    "    # Codificar temperatura en 14 bits (suponiendo un rango ajustado de 0-110 con una escala)\n",
    "    temp_codificada = int(temperatura / 110 * (2**14 - 1))\n",
    "    # Codificar humedad en 7 bits\n",
    "    hum_codificada = humedad & 0b1111111\n",
    "    # Codificar dirección del viento en 3 bits\n",
    "    direcciones = [\"N\", \"NO\", \"O\", \"SO\", \"S\", \"SE\", \"E\", \"NE\"]\n",
    "    dir_codificada = direcciones.index(direccion_viento)\n",
    "\n",
    "    # Combinar los valores en 3 bytes\n",
    "    mensaje = (temp_codificada << 10) | (hum_codificada << 3) | dir_codificada\n",
    "    return mensaje.to_bytes(3, byteorder='big')\n",
    "\n",
    "# Ejemplo de decodificación\n",
    "def decode_datos(mensaje_bytes):\n",
    "    mensaje = int.from_bytes(mensaje_bytes, byteorder='big')\n",
    "    temp_codificada = (mensaje >> 10) & 0x3FFF\n",
    "    hum_codificada = (mensaje >> 3) & 0x7F\n",
    "    dir_codificada = mensaje & 0x07\n",
    "\n",
    "    temperatura = temp_codificada * 110 / (2**14 - 1)\n",
    "    humedad = hum_codificada\n",
    "    direccion_viento = [\"N\", \"NO\", \"O\", \"SO\", \"S\", \"SE\", \"E\", \"NE\"][dir_codificada]\n",
    "    return {\"temperatura\": temperatura, \"humedad\": humedad, \"direccion_viento\": direccion_viento}\n"
   ]
  }
 ],
 "metadata": {
  "kernelspec": {
   "display_name": "Python 3",
   "language": "python",
   "name": "python3"
  },
  "language_info": {
   "codemirror_mode": {
    "name": "ipython",
    "version": 3
   },
   "file_extension": ".py",
   "mimetype": "text/x-python",
   "name": "python",
   "nbconvert_exporter": "python",
   "pygments_lexer": "ipython3",
   "version": "3.11.7"
  }
 },
 "nbformat": 4,
 "nbformat_minor": 2
}
